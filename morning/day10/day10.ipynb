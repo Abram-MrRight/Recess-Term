{
 "cells": [
  {
   "cell_type": "code",
   "execution_count": null,
   "metadata": {},
   "outputs": [],
   "source": [
    "# Train and Test in Machine Learning\n",
    "\"\"\"\n",
    "* Livingstone\n",
    "- Linear Regression\n",
    "- Polynomial Regression\n",
    "- Multinomial Regression\n",
    "- Scaling Regression\n",
    "\n",
    "* jEFF\n",
    "-Train/Test in Machine Learning\n",
    "-Decision Tree\n",
    "- Logistic Regression\n",
    "- Confusion Matrix\n",
    "- Hierarchical Regression\n",
    "-Categorical data\n",
    "- k-means\n",
    "- cross-validation\n",
    "- Area Under the Curve\n",
    "-AUC-RDC curve\n",
    "- KNN\n",
    "\"\"\""
   ]
  },
  {
   "cell_type": "code",
   "execution_count": null,
   "metadata": {},
   "outputs": [],
   "source": [
    "# Machine Learning \n",
    "# Train and Test\n",
    "\"\"\"\n",
    "Training Data\n",
    "- Independent variables\n",
    "- Dependent variables\n",
    "\"\"\""
   ]
  }
 ],
 "metadata": {
  "language_info": {
   "name": "python"
  },
  "orig_nbformat": 4
 },
 "nbformat": 4,
 "nbformat_minor": 2
}
